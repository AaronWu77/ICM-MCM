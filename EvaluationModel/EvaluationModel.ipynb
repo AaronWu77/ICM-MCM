{
 "cells": [
  {
   "metadata": {},
   "cell_type": "markdown",
   "source": "# 评价模型\n",
   "id": "2a8e11a1fa60ccea"
  },
  {
   "metadata": {
    "ExecuteTime": {
     "end_time": "2024-12-01T02:18:56.884367Z",
     "start_time": "2024-12-01T02:18:56.875518Z"
    }
   },
   "cell_type": "code",
   "source": [
    "import numpy as np\n",
    "matrix = np.array([[1, 1/7,1/4,1/6,2], \n",
    "              [7,1,3,3,5], \n",
    "              [4,1/3,1,1/4,6], \n",
    "              [6,1/3,4,1,8],\n",
    "              [1/2,1/5,1/6,1/8,1]\n",
    "              ])\n",
    "n=matrix.shape[0]\n",
    "eigen, _= np.linalg.eig(matrix)\n",
    "Ci=(np.max(np.real(eigen)))-n/(n-1)\n",
    "#ri值表\n",
    "ri_values={1:0.00,\n",
    "           2:0.00,\n",
    "           3:0.52,\n",
    "           4:0.89,\n",
    "           5:1.12,\n",
    "           6:1.26,\n",
    "           7:1.36,\n",
    "           8:1.41,\n",
    "           9:1.46,\n",
    "           10:1.49,\n",
    "           11:1.52,\n",
    "           12:1.54,\n",
    "           13:1.56,\n",
    "           14:1.58,\n",
    "           15:1.59}\n",
    "Ri=ri_values[n]\n",
    "CR=Ci/Ri\n",
    "print(\"CR=\",CR)"
   ],
   "id": "bb06bcc929c1fd9b",
   "outputs": [
    {
     "name": "stdout",
     "output_type": "stream",
     "text": [
      "CR= 3.7496716627985083\n"
     ]
    }
   ],
   "execution_count": 9
  },
  {
   "metadata": {},
   "cell_type": "code",
   "outputs": [],
   "execution_count": null,
   "source": "",
   "id": "f3c1eb8fa01e010b"
  }
 ],
 "metadata": {
  "kernelspec": {
   "display_name": "Python 3",
   "language": "python",
   "name": "python3"
  },
  "language_info": {
   "codemirror_mode": {
    "name": "ipython",
    "version": 2
   },
   "file_extension": ".py",
   "mimetype": "text/x-python",
   "name": "python",
   "nbconvert_exporter": "python",
   "pygments_lexer": "ipython2",
   "version": "2.7.6"
  }
 },
 "nbformat": 4,
 "nbformat_minor": 5
}
