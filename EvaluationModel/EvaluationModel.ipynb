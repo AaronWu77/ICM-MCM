{
 "cells": [
  {
   "metadata": {},
   "cell_type": "markdown",
   "source": [
    "# 评价类模型\n",
    "## 层次分析法\n",
    "1.算法原理分析\n",
    "- 层次分析法是一种主观赋值评价方法也是一个多指标综合评价算法，常用于综合评价类模型。层次分析法将与决策有关的元素分解成目标、准则、方案等多个层次，并在此基础上进行定性和定量分析，是一种简单、实用的算法。\n",
    "\n",
    "- 原理：是在分析一个现象或问题之前，首先将现象或问题根据他们的性质分解为相关因素，并依据因素之间的关系形成一个多层次的结构模型。然后通过经验或专家来判断低层元素对高层元素的相对重要性，并根据重要性的程度得出权重排序。\n",
    "\n",
    "2.AHP层次分析法过程\n",
    "\n",
    "- 分析系统中各因素之间的关系，建立系统的递阶层次结构。\n",
    "\n",
    "- 对于同一层次的个元素关于上一层次中某一准则的重要性两两比较，构造两两比较矩阵（判断矩阵）。\n",
    "\n",
    "- 由判断矩阵计算被比较元素对于该准则的相对权重，并进行一致性检验（检验通过权重才能用）。\n",
    "\n",
    "- 填充权重矩阵，根据矩阵计算得分，得出结果。"
   ],
   "id": "2a8e11a1fa60ccea"
  },
  {
   "metadata": {},
   "cell_type": "markdown",
   "source": [
    "## 构建层次结构模型\n",
    "- 将所有相关因素分为目标层、准则层和方案层\n",
    "![alt text](image-17.png)"
   ],
   "id": "7263a675c2278397"
  },
  {
   "metadata": {},
   "cell_type": "markdown",
   "source": [
    "## 构造判断矩阵\n",
    "- 把准则层的指标进行两两判断，确定各准则层对目标层的权重\n",
    "- 对于准则层A我们可以构建：\n",
    "![alt_text](image-21.png)\n",
    "- 矩阵里面写什么简单来说就是假如有三个元素A、B、C，A和B相比A重要多少，A比C中要多少，B比C中要多少，这个“多少”我们通常使用Santy的1-9标度方法给出，即：\n",
    "![alr_text](image-22.png)"
   ],
   "id": "b20dbe11c4f8f7ac"
  },
  {
   "metadata": {},
   "cell_type": "markdown",
   "source": [
    "## 判断矩阵一致性检验\n",
    "- 概念：\n",
    "1. 矩阵中的所有元素均大于0且满足$A_{ij}*A_{ji}=1$,即正互反矩阵\n",
    "2. 在正互反矩阵中满足$A_{ij}*A_{ji}=A_{ik}$,即一致矩阵\n",
    "- A为一致矩阵的充要条件为：\n",
    "1. $a_{ij}>0$\n",
    "2. $a_{11}=a_{22}=...=a_{nn}=1$\n",
    "3. $[a_{i1},a_{i2},...,a_{im}]=k_i[a_{11},a_{22},...,a_{1n}]$"
   ],
   "id": "5272a7d3ebf7af18"
  },
  {
   "metadata": {},
   "cell_type": "markdown",
   "source": [
    "## 计算一致性指标CI\n",
    "$CI={\\lambda_{max}-n\\over n-1}$(n为矩阵的阶，$\\lambda$为矩阵的最大特征值)"
   ],
   "id": "7f77a206c0701c2b"
  },
  {
   "metadata": {
    "ExecuteTime": {
     "end_time": "2024-12-03T01:55:16.932144Z",
     "start_time": "2024-12-03T01:55:15.597850Z"
    }
   },
   "cell_type": "code",
   "source": [
    "import numpy as np\n",
    "matrix = np.array([[1, 1/7,1/4,1/6,2], \n",
    "              [7,1,3,3,5], \n",
    "              [4,1/3,1,1/4,6], \n",
    "              [6,1/3,4,1,8],\n",
    "              [1/2,1/5,1/6,1/8,1]\n",
    "              ])\n",
    "n=matrix.shape[0]\n",
    "eigen, _= np.linalg.eig(matrix)\n",
    "lamb=np.max(np.real(eigen))\n",
    "CI=(lamb-n)/(n-1)"
   ],
   "id": "bb06bcc929c1fd9b",
   "outputs": [],
   "execution_count": 1
  },
  {
   "metadata": {},
   "cell_type": "markdown",
   "source": [
    "## 计算一致性比例CR\n",
    "1. 查找对应的平均随机一致性指标RI（见下方程序表）\n",
    "2. 计算一致性比例$CR={CI\\over RI}$\n",
    "3. 如果CR<0.1,则可认为判断矩阵的一致性可以接受，否则需要对判断矩阵进行修正。"
   ],
   "id": "df5cf79ea25e23b7"
  },
  {
   "metadata": {
    "ExecuteTime": {
     "end_time": "2024-12-03T01:55:19.113064Z",
     "start_time": "2024-12-03T01:55:19.095801Z"
    }
   },
   "cell_type": "code",
   "source": [
    "#ri值表\n",
    "ri_values={1:0.00,\n",
    "           2:0.00,\n",
    "           3:0.52,\n",
    "           4:0.89,\n",
    "           5:1.12,\n",
    "           6:1.26,\n",
    "           7:1.36,\n",
    "           8:1.41,\n",
    "           9:1.46,\n",
    "           10:1.49,\n",
    "           11:1.52,\n",
    "           12:1.54,\n",
    "           13:1.56,\n",
    "           14:1.58,\n",
    "           15:1.59}\n",
    "# CR计算函数\n",
    "def CalCR(ri_values,matrix):\n",
    "    n=matrix.shape[0]\n",
    "    eigen, _= np.linalg.eig(matrix)\n",
    "    lamb=np.max(np.real(eigen))\n",
    "    CI=(lamb-n)/(n-1)\n",
    "    RI=ri_values[n]\n",
    "    CR=CI/RI\n",
    "    if CR>=0.1:\n",
    "        flag=0\n",
    "    else:\n",
    "        flag=1\n",
    "    return CI,RI,CR,flag\n",
    "CI,RI,CR,flag=CalCR(ri_values,matrix)\n",
    "if flag==1:\n",
    "    print(f\"通过一致性检验,CR= {CR}\")\n",
    "else:\n",
    "    print(f\"未通过致性检验,请对判断矩阵进行修正,CR= {CR}\")"
   ],
   "id": "e53c9f526800737b",
   "outputs": [
    {
     "name": "stdout",
     "output_type": "stream",
     "text": [
      "未通过致性检验,请对判断矩阵进行修正,CR= 0.10036434427105571\n"
     ]
    }
   ],
   "execution_count": 2
  },
  {
   "metadata": {},
   "cell_type": "markdown",
   "source": [
    "## 合成权重\n",
    "- 权重合成的方法有三种：算术平均值法、几何平均值法、特征值法"
   ],
   "id": "4a76c7771529c616"
  },
  {
   "metadata": {
    "ExecuteTime": {
     "end_time": "2024-12-03T01:56:18.024207Z",
     "start_time": "2024-12-03T01:56:18.010206Z"
    }
   },
   "cell_type": "code",
   "source": [
    "#算术平均值法\n",
    "matrix1 = np.array([\n",
    "    [1, 1/5, 1/4, 1/6, 2],\n",
    "    [5, 1, 3, 3, 7],\n",
    "    [4, 1/3, 1, 1/4, 6],\n",
    "    [6, 1/3, 4, 1, 8],\n",
    "    [1/2, 1/7, 1/6, 1/8, 1]\n",
    "])\n",
    "def arithmatic_mean(matrix):\n",
    "    #讲判断矩阵按照列归一化\n",
    "    matrix_norm=matrix / np.sum(matrix, axis=0)\n",
    "    #归一化之后的矩阵按照行求和\n",
    "    matrix_sum=np.sum(matrix_norm, axis=1)\n",
    "    #相加后得到的矩阵再次归一化\n",
    "    matrix_weight=matrix_sum / np.sum(matrix_norm)\n",
    "    return matrix_weight\n",
    "print(\"算数平均值法\",arithmatic_mean(matrix1))\n",
    "#几何平均值法\n",
    "def geometric_mean(matrix):\n",
    "    n = matrix.shape[0]\n",
    "    #按照行相乘得到新的列向量\n",
    "    matrix_row = np.prod(matrix, axis=1)\n",
    "    #新的向量开n次方\n",
    "    matrix_pow = np.power(matrix_row, 1/n)\n",
    "    #归一化\n",
    "    matrix_weight=matrix_pow / np.sum(matrix_pow)\n",
    "    return matrix_weight\n",
    "print(\"几何平均值法\",geometric_mean(matrix1))\n",
    "#特征值法\n",
    "def eigen_mean(matrix):\n",
    "    n = matrix.shape[0]\n",
    "    #求出矩阵A的最大特征值以及其对应的特征向量\n",
    "    eigen_values, eigen_vector = np.linalg.eig(matrix)\n",
    "    matrix_pro = eigen_vector[:, np.argmax(eigen_values)]\n",
    "    #归一化\n",
    "    matrix_weight = matrix_pro / np.sum(matrix_pro)\n",
    "    return matrix_weight\n",
    "print(\"特征值法（不含虚数）\",np.real(eigen_mean(matrix1)))\n",
    "print(\"特征值法（含虚数）\",eigen_mean(matrix1))"
   ],
   "id": "bbfeb926d17f8dc8",
   "outputs": [
    {
     "name": "stdout",
     "output_type": "stream",
     "text": [
      "算数平均值法 [0.06197314 0.42186268 0.16643175 0.3116555  0.03807693]\n",
      "几何平均值法 [0.06024609 0.43173896 0.15695138 0.31390275 0.03716082]\n",
      "特征值法（不含虚数） [0.05692583 0.44076563 0.15197342 0.31475631 0.03557881]\n",
      "特征值法（含虚数） [0.05692583+0.j 0.44076563+0.j 0.15197342+0.j 0.31475631+0.j\n",
      " 0.03557881+0.j]\n"
     ]
    }
   ],
   "execution_count": 5
  },
  {
   "metadata": {},
   "cell_type": "markdown",
   "source": [
    "## 一种调整AHP不一致判断矩阵的优化方法\n",
    "- 一般而言,判断矩阵的一致性改进目标有两个:\n",
    "1. 使得改进后的判断矩阵满足一致性要求;\n",
    "2. 尽量保证对原始判断矩阵的修改不违背专家的初衷.\n",
    "3. 这两个目标综合在一起,可以理解为这样的一个带约束条件的优化问题:在保证判断矩阵满足一致性要求下,调整判断矩阵的元素值,使得调整后判断矩阵与原始判断矩阵的差异程度最小.\n",
    "- 理论基础\n",
    "该方法在打分时,主要根据资料数据、专家意见和评价主体经验,对评价要素之间取1∼9之间的整数或者是1∼9之间的整数的倒数.然而,由于决策问题的复杂性和人们认识的多样性,以及每个判断的片面性,要求每一个判断都具有一致性,显然是不可能的.从判断矩阵的分析看,这种整数赋值的方法,本身也是导致出现判断矩阵不一致的重要原因.\n",
    "- "
   ],
   "id": "463cb64c7f63feda"
  },
  {
   "metadata": {},
   "cell_type": "markdown",
   "source": [
    "## 层次分析法优点\n",
    "- 层次分析法是一种系统性的分析方法。层次分析法把研究对象作为一个系统，按照分解、比较判断、综合的思维方式进行决策，成为继机理分析、统计分析之后发展起来的系统分析的重要工具。\n",
    "\n",
    "- 层次分析法是一种简洁实用的决策方法。这种方法既不单纯追求高深数学，还不片面地注重行为、逻辑、推理，而是把定性方法与定量方法有机地结合起来。\n",
    "\n",
    "- 层次分析法所需定量数据信息比较少。层次分析法主要是从评价者对评价问题的本质、要素的理解出发，比一般的定量方法更讲究定性的分析和判断。\n",
    "\n",
    "## 层次分析法缺点\n",
    "- 层次分析法指标过多时数据统计量大，且权重难以确定。\n",
    "\n",
    "- 层次分析法的特征值和特征向量的精确求法比较复杂。在求判断矩阵的特征值和特征向量时，所用的方法和我们多元统计所用的方法是一样的。\n",
    "\n",
    "- 层次分析法的定量数据较少，定性成分多，不易令人信服。\n",
    "\n",
    "- 层次分析法只能从原有方案中进行选取，而不能为决策者提供解决问题的新方案。\n",
    "\n",
    "参考文献：\n",
    "\n",
    "[1]吴诗辉 刘晓东 贺波 解江.一种调整AHP不一致判断矩阵的优化方法[J].控制与决策,2016,31(11):2106-2112"
   ],
   "id": "5996cbf66f773e6c"
  }
 ],
 "metadata": {
  "kernelspec": {
   "display_name": "Python 3",
   "language": "python",
   "name": "python3"
  },
  "language_info": {
   "codemirror_mode": {
    "name": "ipython",
    "version": 2
   },
   "file_extension": ".py",
   "mimetype": "text/x-python",
   "name": "python",
   "nbconvert_exporter": "python",
   "pygments_lexer": "ipython2",
   "version": "2.7.6"
  }
 },
 "nbformat": 4,
 "nbformat_minor": 5
}
