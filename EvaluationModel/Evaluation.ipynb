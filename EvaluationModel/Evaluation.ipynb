{
 "cells": [
  {
   "cell_type": "markdown",
   "metadata": {},
   "source": [
    "课程重点\n",
    "1. 理解判断矩阵和一致性矩阵的概念与关系\n",
    "2. 掌握通过判断矩阵确定权重的三种方法\n",
    "3. 掌握评价类模型的基本步骤和流程\n",
    "\n",
    "# 评价类模型\n",
    "## 引入\n",
    "学姐想买一台新电脑，备选方案有：联想拯救者、联想小新轻薄本、MacBook Air，购买电脑的考虑因素有：价位、性能、便携程度、续航、屏幕显示。那么学姐应该如何选择呢？\n",
    "\n",
    "问题分析：选择方案 —— 属于评价类问题\n",
    "\n",
    "解决评价类问题需要思考的三个问题：\n",
    "1. 评价目标是什么？ —— 购买电脑\n",
    "2. 为了达到目标有哪几种可选方案？—— 联想拯救者、联想小新轻薄本、MacBook Air\n",
    "3. 评价的准则/指标是什么？ ——价位、性能、便携程度、续航、屏幕显示\n",
    "\n",
    "最简单的方法：做一个权重表吧！\n",
    "![alt text](image.png)\n",
    "- 同颜色的单元格和为1，表示针对某一因素所占的权重\n",
    "- 直接写出权重\n",
    "\n",
    "直接写权重出现的问题：\n",
    "\n",
    "司守奎《数学建模算法与应用》：在确定影响某因素的诸因子在该因素中所占的比重时，遇到的主要困难是这些比重常常**不易定量化**。此外，当影响某因素的因子**较多**时，直接顾此考虑各因子对该因素有多大程度的影响时，常常会因考虑不周全、失彼而使决策者提出与他实际认为的重要性程度**不相一致**的数据，甚至有可能提出一组隐含矛盾的数据。\n",
    "- 什么是不相一致？如果一次性考虑五个指标之间的权重，往往会考虑不周到，忽略了方案之间的差异\n",
    "\n",
    "解决方法：比较+划分 —— 层次分析法的核心思想，也是数模中最常用的一种主观权重确定方法"
   ]
  },
  {
   "attachments": {
    "image.png": {
     "image/png": "[encoded data removed]"
    }
   },
   "cell_type": "markdown",
   "metadata": {},
   "source": [
    "## 主观权重确定 —— 判断矩阵法（层次分析法）\n",
    "从购买电脑的角度，学姐对价位、性能、便携程度、续航、屏幕显示这五个指标按照下面的标准进行**两两比较**\n",
    "![alt text](image-2.png)\n",
    "\n",
    "得到了如下的一个矩阵（方阵）：\n",
    "![alt text](image-1.png)\n",
    "\n",
    "在这个过程中，学姐进行了10次比较，组合数C(5,2)=10, 分别是：\n",
    "- 我觉得价位强烈不如性能重要\n",
    "- 我觉得价位稍微不如便携程度重要一点\n",
    "- 我觉得价位不太强烈重要于续航\n",
    "- 我觉得价位比屏幕显示稍微重要一点\n",
    "- 我觉得性能比便携程度稍微重要\n",
    "- 我觉得性能比续航稍微重要\n",
    "- 我觉得性能比屏幕显示明显重要\n",
    "- 我觉得便携程度不如续航那么明显重要\n",
    "- 我觉得便携程度比屏幕显示更明显重要\n",
    "- 我觉得续航比屏幕显示极端重要\n",
    "\n",
    "上表的数据构成的方阵就是**判断矩阵**，理论上，这个表需要**专家**去写，但比赛中，专家往往就是自己\n",
    "\n",
    "### 判断矩阵及性质\n",
    "![alt text](image-4.png)\n",
    "矩阵中元素的具体含义是\n",
    "\n",
    "![image.png](attachment:image.png)\n",
    "\n",
    "得到判断矩阵后，学姐迫不及待的想去算权重了，但是等一等，别忘了当初构造判断矩阵的原因——保证一致性！这在指标数量特别多的时候更为重要。可以直观理解不一致\n",
    "![alt text](image-3.png)\n",
    "- 从性能角度看，屏幕显示应该比价位重要，但是直接比较价位和屏幕显示的时候却发现，价位比屏幕显示重要？\n",
    "- 从性能角度看，便携程度和续航应该一样重要，但是直接比较便携程度和续航，发现续航比便携程度重要？如果把4改成5、6，不一致性会更严重\n",
    "- 一致性问题是在两两比较中，不可避免会出现的问题，那么就需要一种方法来判断“专家”得到的判断矩阵是否一致"
   ]
  },
  {
   "cell_type": "markdown",
   "metadata": {},
   "source": [
    "### 一致矩阵及其判定\n",
    "#### 定义及性质\n",
    "![alt text](image-5.png)\n",
    "![alt text](image-6.png)\n",
    "**需要注意**：一致性矩阵中出现了 3/4 和 4/3两个元素，但是根据之前给出的层次分析法的比较标准，这是不允许出现在判断矩阵中的，判断矩阵中的原序只能是1至9以及倒数。\n",
    "\n",
    "#### 一致性检验原理\n",
    "1. 原理：检验构造的判断矩阵和一直矩阵是否有太大差别\n",
    "2. 数学证明（可以忽略，建模中都直接拿来用了，因此不过多讲解，看看就行，比赛也不用写出来）\n",
    "![alt text](image-7.png)\n",
    "![alt text](image-8.png)\n",
    "\n",
    "#### 一致性检验步骤（重要）\n",
    "![alt text](image-9.png)\n",
    "一些小问题\n",
    "1. 平均随机一致性指标 RI 如何计算得到的？\n",
    "![alt text](image-11.png)\n",
    "2. 为什么要像上述构造CI，为什么以0.1为划分依据？\n",
    "\n",
    "答：作者通过多次实验试出来的，即“蒙特卡罗模拟”"
   ]
  },
  {
   "cell_type": "code",
   "metadata": {
    "ExecuteTime": {
     "end_time": "2024-12-02T14:04:40.264451Z",
     "start_time": "2024-12-02T14:04:40.129897Z"
    }
   },
   "source": [
    "# 判断所给的 判断矩阵 是否是一致性矩阵(cr < 0.1)\n",
    "import numpy as np\n",
    "\n",
    "def is_consistent_matrix(matrix):\n",
    "    # 判断矩阵维度\n",
    "    if matrix.shape[0] != matrix.shape[1]:\n",
    "        print(\"The matrix is not square!\")\n",
    "        return False\n",
    "    \n",
    "    # 获取矩阵维度\n",
    "    n = matrix.shape[0]\n",
    "    # 计算矩阵的最大特征值\n",
    "    eigen_values, _ = np.linalg.eig(matrix)\n",
    "    max_eigen_value = np.max(eigen_values)\n",
    "    # max_eigen_vector = eigen_vectors[:, np.argmax(eigen_values)] # 获取最大特征值对应的特征向量\n",
    "\n",
    "    # 计算一致性指标 CI （Consistency Index）\n",
    "    ci = (max_eigen_value - n) / (n - 1)\n",
    "\n",
    "    # 随机一致性指标表 RI （Random Index）\n",
    "    ri_values = {\n",
    "        1: 0.00,\n",
    "        2: 0.00,\n",
    "        3: 0.52,\n",
    "        4: 0.89,\n",
    "        5: 1.12,\n",
    "        6: 1.26,\n",
    "        7: 1.36,\n",
    "        8: 1.41,\n",
    "        9: 1.46,\n",
    "        10: 1.49,\n",
    "        11: 1.52,\n",
    "        12: 1.54,\n",
    "        13: 1.56,\n",
    "        14: 1.58,\n",
    "        15: 1.59\n",
    "    }\n",
    "    ri = ri_values[n]\n",
    "\n",
    "    # 计算一致性比率 CR （Consistency Ratio）\n",
    "    cr = ci / ri\n",
    "\n",
    "    return cr < 0.1, cr"
   ],
   "outputs": [],
   "execution_count": 1
  },
  {
   "cell_type": "code",
   "metadata": {
    "ExecuteTime": {
     "end_time": "2024-12-02T14:04:40.841426Z",
     "start_time": "2024-12-02T14:04:40.829410Z"
    }
   },
   "source": [
    "# 原始矩阵\n",
    "matrix = np.array([\n",
    "    [1, 1/7, 1/4, 1/6, 2],\n",
    "    [7, 1, 3, 3, 5],\n",
    "    [4, 1/3, 1, 1/4, 6],\n",
    "    [6, 1/3, 4, 1, 8],\n",
    "    [1/2, 1/5, 1/6, 1/8, 1]\n",
    "])\n",
    "is_consistent_matrix(matrix)"
   ],
   "outputs": [
    {
     "data": {
      "text/plain": [
       "(False, (0.10036434427105571+0j))"
      ]
     },
     "execution_count": 2,
     "metadata": {},
     "output_type": "execute_result"
    }
   ],
   "execution_count": 2
  },
  {
   "cell_type": "code",
   "metadata": {
    "ExecuteTime": {
     "end_time": "2024-12-02T14:04:42.157907Z",
     "start_time": "2024-12-02T14:04:42.139452Z"
    }
   },
   "source": [
    "matrix = np.array([\n",
    "    [1, 1/7, 1/4, 1/6, 2],\n",
    "    [7, 1, 3, 3, 5],\n",
    "    [4, 1/3, 1, 1/4, 6],\n",
    "    [6, 1/3, 4, 1, 8],\n",
    "    [1/2, 1/5, 1/6, 1/8, 1]\n",
    "])\n",
    "n = matrix.shape[0]\n",
    "eigen_values, vec = np.linalg.eig(matrix)\n",
    "Ci = (np.max(np.real(eigen_values)) - n) / (n-1)\n",
    "vec.shape"
   ],
   "outputs": [
    {
     "data": {
      "text/plain": [
       "(5, 5)"
      ]
     },
     "execution_count": 3,
     "metadata": {},
     "output_type": "execute_result"
    }
   ],
   "execution_count": 3
  },
  {
   "cell_type": "code",
   "metadata": {
    "ExecuteTime": {
     "end_time": "2024-12-02T14:04:44.127910Z",
     "start_time": "2024-12-02T14:04:44.110609Z"
    }
   },
   "source": [
    "# 修正后\n",
    "matrix = np.array([\n",
    "    [1, 1/5, 1/4, 1/6, 2],\n",
    "    [5, 1, 3, 3, 7],\n",
    "    [4, 1/3, 1, 1/4, 6],\n",
    "    [6, 1/3, 4, 1, 8],\n",
    "    [1/2, 1/7, 1/6, 1/8, 1]\n",
    "])\n",
    "is_consistent_matrix(matrix)"
   ],
   "outputs": [
    {
     "data": {
      "text/plain": [
       "(True, (0.08650099324698532+0j))"
      ]
     },
     "execution_count": 4,
     "metadata": {},
     "output_type": "execute_result"
    }
   ],
   "execution_count": 4
  },
  {
   "cell_type": "markdown",
   "metadata": {},
   "source": [
    "### 层次分析（判断矩阵）求主观权重\n",
    "#### 步骤\n",
    "1. 写出判断矩阵（方阵）\n",
    "2. 进行一致性检验\n",
    "3. 求权重：算数平均、几何平均、特征向量\n",
    "\n",
    "#### 方法1: 算术平均法\n",
    "- 公式\n",
    "\n",
    "![alt text](image-12.png)\n",
    "- Excel实现\n",
    "\n",
    "![alt text](image-13.png)\n",
    "- Python实现"
   ]
  },
  {
   "cell_type": "code",
   "metadata": {
    "ExecuteTime": {
     "end_time": "2024-12-02T14:04:47.186039Z",
     "start_time": "2024-12-02T14:04:47.175037Z"
    }
   },
   "source": [
    "def AHP_weight1(matrix):\n",
    "    # 5*5\n",
    "    # step 1\n",
    "    a = matrix / np.sum(matrix, axis=0)\n",
    "    print(f\"Step1: {a}\")\n",
    "    # step 2\n",
    "    b = np.sum(a, axis=1)\n",
    "    print(f\"Step2: {b}\")\n",
    "    # step 3\n",
    "    w = b / np.sum(b)\n",
    "    return w\n",
    "\n",
    "AHP_weight1(matrix)"
   ],
   "outputs": [
    {
     "name": "stdout",
     "output_type": "stream",
     "text": [
      "Step1: [[0.06060606 0.09952607 0.02970297 0.03669725 0.08333333]\n",
      " [0.3030303  0.49763033 0.35643564 0.66055046 0.29166667]\n",
      " [0.24242424 0.16587678 0.11881188 0.05504587 0.25      ]\n",
      " [0.36363636 0.16587678 0.47524752 0.22018349 0.33333333]\n",
      " [0.03030303 0.07109005 0.01980198 0.02752294 0.04166667]]\n",
      "Step2: [0.30986568 2.1093134  0.83215877 1.55827749 0.19038466]\n"
     ]
    },
    {
     "data": {
      "text/plain": [
       "array([0.06197314, 0.42186268, 0.16643175, 0.3116555 , 0.03807693])"
      ]
     },
     "execution_count": 5,
     "metadata": {},
     "output_type": "execute_result"
    }
   ],
   "execution_count": 5
  },
  {
   "cell_type": "code",
   "execution_count": null,
   "metadata": {},
   "outputs": [
    {
     "data": {
      "text/plain": [
       "array([0.06197314, 0.42186268, 0.16643175, 0.3116555 , 0.03807693])"
      ]
     },
     "execution_count": 25,
     "metadata": {},
     "output_type": "execute_result"
    }
   ],
   "source": [
    "temp = np.sum(matrix, axis=0)\n",
    "# print(matrix.shape, temp.shape)\n",
    "a = matrix / temp\n",
    "b = np.sum(a, axis=1)\n",
    "w = b / np.sum(b)\n",
    "w"
   ]
  },
  {
   "cell_type": "markdown",
   "metadata": {},
   "source": [
    "#### 方法2: 几何平均法\n",
    "- 公式\n",
    "\n",
    "![alt text](image-14.png)\n",
    "- Excel实现\n",
    "\n",
    "![alt text](image-15.png)\n",
    "- Python实现"
   ]
  },
  {
   "cell_type": "code",
   "execution_count": 31,
   "metadata": {},
   "outputs": [
    {
     "name": "stdout",
     "output_type": "stream",
     "text": [
      "Step1: [1.66666667e-02 3.15000000e+02 2.00000000e+00 6.40000000e+01\n",
      " 1.48809524e-03]\n",
      "Step2: [0.4409301  3.15981831 1.14869835 2.29739671 0.27197322]\n"
     ]
    },
    {
     "data": {
      "text/plain": [
       "array([0.06024609, 0.43173896, 0.15695138, 0.31390275, 0.03716082])"
      ]
     },
     "execution_count": 31,
     "metadata": {},
     "output_type": "execute_result"
    }
   ],
   "source": [
    "def AHP_weight2(matrix):\n",
    "    n = matrix.shape[0]\n",
    "    # step 1\n",
    "    a = np.prod(matrix, axis=1)\n",
    "    print(f\"Step1: {a}\")\n",
    "    # step 2\n",
    "    b = np.power(a, 1/n)\n",
    "    print(f\"Step2: {b}\")\n",
    "    # step 3\n",
    "    w = b / np.sum(b)\n",
    "    return w\n",
    "\n",
    "AHP_weight2(matrix)"
   ]
  },
  {
   "cell_type": "code",
   "execution_count": 30,
   "metadata": {},
   "outputs": [
    {
     "data": {
      "text/plain": [
       "array([0.06024609, 0.43173896, 0.15695138, 0.31390275, 0.03716082])"
      ]
     },
     "execution_count": 30,
     "metadata": {},
     "output_type": "execute_result"
    }
   ],
   "source": [
    "n = matrix.shape[0]\n",
    "a = np.prod(matrix, axis=1)\n",
    "b = np.power(a, 1/n)\n",
    "w = b / np.sum(b)\n",
    "w"
   ]
  },
  {
   "cell_type": "markdown",
   "metadata": {},
   "source": [
    "#### 方法3: 特征值法\n",
    "- 原理\n",
    "\n",
    "![alt text](image-16.png)\n",
    "\n",
    "- Python实现"
   ]
  },
  {
   "cell_type": "code",
   "execution_count": 37,
   "metadata": {},
   "outputs": [
    {
     "name": "stdout",
     "output_type": "stream",
     "text": [
      "Step1: [0.10048284+0.j 0.77801909+0.j 0.26825645+0.j 0.55559326+0.j\n",
      " 0.06280206+0.j]\n"
     ]
    },
    {
     "data": {
      "text/plain": [
       "array([0.05692583+0.j, 0.44076563+0.j, 0.15197342+0.j, 0.31475631+0.j,\n",
       "       0.03557881+0.j])"
      ]
     },
     "execution_count": 37,
     "metadata": {},
     "output_type": "execute_result"
    }
   ],
   "source": [
    "def AHP_weight3(matrix):\n",
    "    n = matrix.shape[0]\n",
    "    # step 1\n",
    "    eigen_values, eigen_vector = np.linalg.eig(matrix)\n",
    "    a = eigen_vector[:, np.argmax(eigen_values)]\n",
    "    print(f\"Step1: {a}\")\n",
    "    # step 2\n",
    "    w = a / np.sum(a)\n",
    "    return w\n",
    "\n",
    "AHP_weight3(matrix)"
   ]
  },
  {
   "cell_type": "code",
   "execution_count": 36,
   "metadata": {},
   "outputs": [
    {
     "name": "stdout",
     "output_type": "stream",
     "text": [
      "[0.10048284+0.j 0.77801909+0.j 0.26825645+0.j 0.55559326+0.j\n",
      " 0.06280206+0.j]\n"
     ]
    },
    {
     "data": {
      "text/plain": [
       "array([[ 0.10048284+0.j        , -0.03078488-0.05551022j,\n",
       "        -0.03078488+0.05551022j, -0.19233667+0.j        ,\n",
       "        -0.0106399 +0.j        ],\n",
       "       [ 0.77801909+0.j        ,  0.80565032+0.j        ,\n",
       "         0.80565032-0.j        , -0.90645595+0.j        ,\n",
       "        -0.87398677+0.j        ],\n",
       "       [ 0.26825645+0.j        , -0.22044704+0.04172428j,\n",
       "        -0.22044704-0.04172428j, -0.0862471 +0.j        ,\n",
       "        -0.22459258+0.j        ],\n",
       "       [ 0.55559326+0.j        ,  0.00361689+0.54267302j,\n",
       "         0.00361689-0.54267302j,  0.3179046 +0.j        ,\n",
       "         0.42186243+0.j        ],\n",
       "       [ 0.06280206+0.j        ,  0.00174187-0.04528273j,\n",
       "         0.00174187+0.04528273j,  0.18122452+0.j        ,\n",
       "         0.08731653+0.j        ]])"
      ]
     },
     "execution_count": 36,
     "metadata": {},
     "output_type": "execute_result"
    }
   ],
   "source": [
    "n = matrix.shape[0]\n",
    "eig_v, eig_vect = np.linalg.eig(matrix)\n",
    "idx = np.argmax(eig_v)\n",
    "print(eig_vect[:, idx])\n",
    "eig_vect\n"
   ]
  },
  {
   "cell_type": "markdown",
   "metadata": {},
   "source": [
    "关于三种权重\n",
    "- 科研中：没有太大差别，可以随便选一种用，写清楚即可，当然也可以用平均\n",
    "- 比赛中：建议将三种方法（算数平均法，几何平均法，特征值法）求出的权重进行再进行平均，以增加权重稳健性质"
   ]
  },
  {
   "cell_type": "code",
   "execution_count": 38,
   "metadata": {},
   "outputs": [
    {
     "name": "stdout",
     "output_type": "stream",
     "text": [
      "Step1: [[0.06060606 0.09952607 0.02970297 0.03669725 0.08333333]\n",
      " [0.3030303  0.49763033 0.35643564 0.66055046 0.29166667]\n",
      " [0.24242424 0.16587678 0.11881188 0.05504587 0.25      ]\n",
      " [0.36363636 0.16587678 0.47524752 0.22018349 0.33333333]\n",
      " [0.03030303 0.07109005 0.01980198 0.02752294 0.04166667]]\n",
      "Step2: [0.30986568 2.1093134  0.83215877 1.55827749 0.19038466]\n",
      "Step1: [1.66666667e-02 3.15000000e+02 2.00000000e+00 6.40000000e+01\n",
      " 1.48809524e-03]\n",
      "Step2: [0.4409301  3.15981831 1.14869835 2.29739671 0.27197322]\n",
      "Step1: [0.10048284+0.j 0.77801909+0.j 0.26825645+0.j 0.55559326+0.j\n",
      " 0.06280206+0.j]\n"
     ]
    },
    {
     "data": {
      "text/plain": [
       "array([0.05971502, 0.43145576, 0.15845218, 0.31343819, 0.03693885])"
      ]
     },
     "execution_count": 38,
     "metadata": {},
     "output_type": "execute_result"
    }
   ],
   "source": [
    "weight = (AHP_weight1(matrix) + AHP_weight2(matrix) + np.real(AHP_weight3(matrix))) / 3\n",
    "weight"
   ]
  },
  {
   "cell_type": "markdown",
   "metadata": {},
   "source": [
    "## 层次分析法（Analytic Hierarchy Process，AHP）\n",
    "\n",
    "仿照着上面的步骤，我们可以继续看，在性能最优（Criterion）的情况下，三种计算机（Plan）哪个权重高呢？这就是层次分析法，即在C-P中用权重代替了打分。而我们的思路其实可以拆解为层次分析图：目标层（Objective）准则层（Criterion）方案层（Plan）\n",
    "\n",
    "### 层次分析步骤\n",
    "1. 分析系统中各因素关系，建立系统的递阶层次结构图\n",
    "![alt text](image-17.png)\n",
    "> 需要注意的是，如果只是求权重，那么指标体系图是树状图，如果是用权重代替了打分，那么是上面那种画法，之所以将求权重和评价分开，因为大多数时候用层次分析求权重多。\n",
    "\n",
    "2. 构造判断矩阵\n",
    "目标-准则之间的矩阵叫 O-C，准则-方案之间的矩阵叫 C-P，而准则-方案层判断矩阵的数据既可以自己写（像O-C那样），也可以融合现有的数据\n",
    "\n",
    "3. 一致性检验并计算权重\n",
    "4. 根据权重计算得分（利用打分表）\n",
    "![alt text](image-18.png)\n"
   ]
  },
  {
   "cell_type": "markdown",
   "metadata": {},
   "source": [
    "对于步骤二进行一个解释：比如还是买电脑，但是学姐知道拯救者、联想小新和Mac的价位分别是：9000RMB，5000RMB，12000RMB，那么就可以直接在价位指标写入该数值，同理，续航三者分别是：6h、12h和24h，便携程度用重量代表，分别是1.5kg、0.8kg和0.3kg。\n",
    "\n",
    "但是对于性能、屏幕显示就不那么好量化，这里也有很多量化的方法，构造C-P矩阵，通过权重代表得分是其中一种，我们对性能进行量化，进行一致性检验，得到权重。\n",
    "![alt text](image-20.png)"
   ]
  },
  {
   "cell_type": "code",
   "execution_count": 39,
   "metadata": {},
   "outputs": [
    {
     "data": {
      "text/plain": [
       "(True, (0.008848762225266853+0j))"
      ]
     },
     "execution_count": 39,
     "metadata": {},
     "output_type": "execute_result"
    }
   ],
   "source": [
    "matrix = np.array([\n",
    "    [1, 4, 1/2],\n",
    "    [1/4, 1, 1/6],\n",
    "    [2, 6, 1],\n",
    "])\n",
    "is_consistent_matrix(matrix)"
   ]
  },
  {
   "cell_type": "code",
   "execution_count": 40,
   "metadata": {},
   "outputs": [
    {
     "data": {
      "text/plain": [
       "array([0.32377622, 0.08927739, 0.58694639])"
      ]
     },
     "execution_count": 40,
     "metadata": {},
     "output_type": "execute_result"
    }
   ],
   "source": [
    "# 为了计算方便没有封装成函数\n",
    "a = matrix / matrix.sum(axis=0)\n",
    "b = a.sum(axis=1)\n",
    "w2 = b / b.sum()\n",
    "w2"
   ]
  },
  {
   "cell_type": "markdown",
   "metadata": {},
   "source": [
    "对于屏幕显示，我们仍旧采用最初的主观打分，最后汇总得到打分表：\n",
    "![alt text](image-19.png)\n",
    "\n",
    "区分指标体系图和层次分析结构图"
   ]
  },
  {
   "cell_type": "code",
   "execution_count": null,
   "metadata": {},
   "outputs": [
    {
     "data": {
      "text/plain": [
       "((5,), (5, 3))"
      ]
     },
     "execution_count": 41,
     "metadata": {},
     "output_type": "execute_result"
    }
   ],
   "source": [
    "# 现在我们的权重矩阵是weight，而分数矩阵是X\n",
    "X = np.array([\n",
    "    [9000, 5000, 12000],\n",
    "    [0.324, 0.089, 0.587],\n",
    "    [1.5, 0.8, 0.3],\n",
    "    [6, 12, 24],\n",
    "    [0.15, 0.15, 0.7]\n",
    "])\n",
    "# 判断矩阵的维度\n",
    "weight.shape, X.shape "
   ]
  },
  {
   "cell_type": "code",
   "execution_count": 42,
   "metadata": {},
   "outputs": [
    {
     "data": {
      "text/plain": [
       "array([539.69881665, 302.50705857, 724.42940954])"
      ]
     },
     "execution_count": 42,
     "metadata": {},
     "output_type": "execute_result"
    }
   ],
   "source": [
    "np.matmul(X.T, weight)"
   ]
  },
  {
   "cell_type": "code",
   "execution_count": 16,
   "metadata": {},
   "outputs": [
    {
     "data": {
      "text/plain": [
       "array([539.69881665, 302.50705857, 724.42940954])"
      ]
     },
     "execution_count": 16,
     "metadata": {},
     "output_type": "execute_result"
    }
   ],
   "source": [
    "scores = np.matmul(X.T, weight)\n",
    "scores"
   ]
  },
  {
   "cell_type": "markdown",
   "metadata": {},
   "source": [
    "根据结果发现，还是Mac的得分最高（724），所以选择Mac\n",
    "\n",
    "思考：评价过程有没有什么问题？"
   ]
  },
  {
   "cell_type": "markdown",
   "metadata": {},
   "source": [
    "## 评价类模型常见问题\n",
    "- 考虑量纲影响：价格数量级远远大于性能数量级，最后的得分，尽管性能的权重大，但还是价格占主导地位\n",
    "- 正向化：便携程度用重量衡量，应该是越小越好\n",
    "\n",
    "### 评价模型建模流程\n",
    "1. 确定评价目标、评价对象\n",
    "2. 建立指标体系（评价准则）\n",
    "3. 寻找数据，量化评价指标\n",
    "4. 确定权重 (和为1)\n",
    "5. 数据归一化，正向化\n",
    "6. 选择评价方法，计算评价分数"
   ]
  },
  {
   "cell_type": "markdown",
   "metadata": {},
   "source": [
    "穿插讲解 MatrixEDA"
   ]
  },
  {
   "cell_type": "code",
   "execution_count": null,
   "metadata": {},
   "outputs": [],
   "source": []
  }
 ],
 "metadata": {
  "kernelspec": {
   "display_name": "base",
   "language": "python",
   "name": "python3"
  },
  "language_info": {
   "codemirror_mode": {
    "name": "ipython",
    "version": 3
   },
   "file_extension": ".py",
   "mimetype": "text/x-python",
   "name": "python",
   "nbconvert_exporter": "python",
   "pygments_lexer": "ipython3",
   "version": "3.11.6"
  }
 },
 "nbformat": 4,
 "nbformat_minor": 2
}
